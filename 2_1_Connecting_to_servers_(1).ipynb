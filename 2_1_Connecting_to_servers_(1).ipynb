{
  "nbformat": 4,
  "nbformat_minor": 0,
  "metadata": {
    "colab": {
      "provenance": [],
      "include_colab_link": true
    },
    "kernelspec": {
      "name": "python3",
      "display_name": "Python 3"
    },
    "language_info": {
      "name": "python"
    },
    "gpuClass": "standard"
  },
  "cells": [
    {
      "cell_type": "markdown",
      "metadata": {
        "id": "view-in-github",
        "colab_type": "text"
      },
      "source": [
        "<a href=\"https://colab.research.google.com/github/Mattshanevdberg/ML-FruitPunchAI_BootCamp/blob/main/2_1_Connecting_to_servers_(1).ipynb\" target=\"_parent\"><img src=\"https://colab.research.google.com/assets/colab-badge.svg\" alt=\"Open In Colab\"/></a>"
      ]
    },
    {
      "cell_type": "code",
      "execution_count": null,
      "metadata": {
        "id": "V5rcIo-znuAQ"
      },
      "outputs": [],
      "source": []
    },
    {
      "cell_type": "markdown",
      "source": [
        "# Challenge 1\n",
        "**Note:** It is adviced to have already created your public/private key pair before you start this challenge. If you did not do that yet follow the instructions until the Connect to Server section of the document below. When you then come back here to proceed, either start a new Colab session or factory reset this one, to make sure you have all the time for the rest. \n",
        "\n",
        "[Create SSH keys](https://docs.google.com/document/d/1wXdur6wN8z-33hTv0VT7bfO-8Way9h76KrmyaOcLE9c/edit?usp=sharing)\n",
        "\n",
        "Today we are going to use the free server that runs Google Colab to learn you about connecting to servers and mangaing them. Which means you are basically a hacker after this challenge ;) \n",
        "\n",
        "Run the code below, no need to understand it, what it does is download and installing NGROK which is an application that is going to expose additional ports to the underlying server. Futhermore it installs openssh-server which is the SSH server we are going to use to connect to the underlying server. "
      ],
      "metadata": {
        "id": "L4KLgOv3Jy3o"
      }
    },
    {
      "cell_type": "code",
      "source": [
        "#CODE\n",
        "#Generate root password\n",
        "import random, string\n",
        "password = ''.join(random.choice(string.ascii_letters + string.digits) for i in range(20))\n",
        "#Download ngrok\n",
        "! wget -q -c -nc https://bin.equinox.io/c/4VmDzA7iaHb/ngrok-stable-linux-amd64.zip\n",
        "! unzip -qq -n ngrok-stable-linux-amd64.zip\n",
        "#Setup sshd\n",
        "! apt-get install -qq -o=Dpkg::Use-Pty=0 openssh-server pwgen > /dev/null\n",
        "#Set root password\n",
        "! echo root:$password | chpasswd\n",
        "! mkdir -p /var/run/sshd\n",
        "! echo \"PermitRootLogin yes\" >> /etc/ssh/sshd_config\n",
        "! echo \"PasswordAuthentication yes\" >> /etc/ssh/sshd_config\n",
        "! echo \"LD_LIBRARY_PATH=/usr/lib64-nvidia\" >> /root/.bashrc\n",
        "! echo \"export LD_LIBRARY_PATH\" >> /root/.bashrc\n",
        "#Run sshd\n",
        "get_ipython().system_raw('/usr/sbin/sshd -D &')\n"
      ],
      "metadata": {
        "id": "Hu9lwpUkn3Yk",
        "colab": {
          "base_uri": "https://localhost:8080/"
        },
        "outputId": "47c6fe87-a4c6-4da7-b73a-7bf6549d9da3"
      },
      "execution_count": 2,
      "outputs": [
        {
          "output_type": "stream",
          "name": "stdout",
          "text": [
            "\n",
            "Creating config file /etc/ssh/sshd_config with new version\n",
            "Creating SSH2 RSA key; this may take some time ...\n",
            "2048 SHA256:wm0vG9uDgdA2uhioNQMJ4kkBP9ummc/2HySXPY6/6dY root@58e09d8cd33b (RSA)\n",
            "Creating SSH2 ECDSA key; this may take some time ...\n",
            "256 SHA256:9Pjmv0vWKNzLrMJqH3fm+8H6iSIK0ihVewN9fNiutcM root@58e09d8cd33b (ECDSA)\n",
            "Creating SSH2 ED25519 key; this may take some time ...\n",
            "256 SHA256:I5aqn2lNQ6JC6ZZJNqAVA2S6MWHsKSr5VH9JzMFaIn4 root@58e09d8cd33b (ED25519)\n",
            "Created symlink /etc/systemd/system/sshd.service → /lib/systemd/system/ssh.service.\n",
            "Created symlink /etc/systemd/system/multi-user.target.wants/ssh.service → /lib/systemd/system/ssh.service.\n",
            "invoke-rc.d: could not determine current runlevel\n",
            "invoke-rc.d: policy-rc.d denied execution of start.\n"
          ]
        }
      ]
    },
    {
      "cell_type": "markdown",
      "source": [
        "## Create NGROK accound\n",
        "Now create an account on NGROK:\n",
        "\n",
        "[Registration link](https://dashboard.ngrok.com/signup)\n",
        "\n",
        "After successful login in should see an authentication token (64 character random string), if not go to the following link and copy it at the top:\n",
        "\n",
        "[Auth token](https://dashboard.ngrok.com/get-started/your-authtoken)\n",
        "\n",
        "Paste the auth token below, you are probably going to need it multiple times.\n",
        "\n",
        "AUTH TOKEN\n",
        "\n",
        "2HuISAJkTeIKOs925DiVdboyMrr_3SXxjxmvZJwC2VEGD7jSp\n",
        "\n",
        "Use the code below to provide your token to get access to NGROK on this server"
      ],
      "metadata": {
        "id": "0Kp5RjMYq8_L"
      }
    },
    {
      "cell_type": "code",
      "source": [
        "#Ask token\n",
        "print(\"Copy authtoken from https://dashboard.ngrok.com/auth\")\n",
        "import getpass\n",
        "authtoken = getpass.getpass()"
      ],
      "metadata": {
        "id": "hGB5OKrOXbmL",
        "colab": {
          "base_uri": "https://localhost:8080/"
        },
        "outputId": "a254e305-4f8d-482c-ae0f-f58ca93eca4f"
      },
      "execution_count": 3,
      "outputs": [
        {
          "name": "stdout",
          "output_type": "stream",
          "text": [
            "Copy authtoken from https://dashboard.ngrok.com/auth\n",
            "··········\n"
          ]
        }
      ]
    },
    {
      "cell_type": "markdown",
      "source": [
        "## Open NGROK tunnel\n",
        "The two blocks below will use NGROK to open a tunnel from the internet to port 22 on the underlying server an print the root password of the SSH account and the url and port of for the SSH connection. Again you don't have to understand this code"
      ],
      "metadata": {
        "id": "FGWnPauDNNm5"
      }
    },
    {
      "cell_type": "code",
      "source": [
        "\n",
        "#Create tunnel\n",
        "get_ipython().system_raw('./ngrok authtoken $authtoken && ./ngrok tcp 22 &')"
      ],
      "metadata": {
        "id": "xtMPMl2aoanN"
      },
      "execution_count": 4,
      "outputs": []
    },
    {
      "cell_type": "code",
      "source": [
        "print(\"hello\")"
      ],
      "metadata": {
        "id": "TXEXlFwXrFog",
        "colab": {
          "base_uri": "https://localhost:8080/"
        },
        "outputId": "d24f47be-b793-45c8-929a-6206339121d8"
      },
      "execution_count": 22,
      "outputs": [
        {
          "output_type": "stream",
          "name": "stdout",
          "text": [
            "hello\n"
          ]
        }
      ]
    },
    {
      "cell_type": "code",
      "source": [
        "import requests\n",
        "#Get public address\n",
        "url = 'http://localhost:4040/api/tunnels'\n",
        "public_adress = requests.get(url=url).json()['tunnels'][0]['public_url']\n",
        "port = public_adress.split(':')[2]\n",
        "server = public_adress.split('//')[1].split(':')[0]\n",
        "print(f' server: {server}\\n port: {port}\\n username: root\\n password: {password}')"
      ],
      "metadata": {
        "colab": {
          "base_uri": "https://localhost:8080/"
        },
        "id": "N4L93KLzD_Qg",
        "outputId": "f8c36427-b12e-4783-fc8f-f0c16fe6fbda"
      },
      "execution_count": 5,
      "outputs": [
        {
          "output_type": "stream",
          "name": "stdout",
          "text": [
            " server: 2.tcp.ngrok.io\n",
            " port: 14263\n",
            " username: root\n",
            " password: fM7zbjPDGEcXPWTpvplM\n"
          ]
        }
      ]
    },
    {
      "cell_type": "markdown",
      "source": [
        "## Challenge 1.1: Connect to the SSH server\n",
        "This part can be challenging, but if you follow the instructions below step by step and google your way out of any issues I'm sure you'll get there. Using the instruciton below:\n",
        "\n",
        "\n",
        "1.   Connect to the Colab server using the above printed credentials.\n",
        "2.   Add your public key to the server and authenticte with your private key.\n",
        "\n",
        "\n",
        "[Create SSH keys](https://docs.google.com/document/d/1wXdur6wN8z-33hTv0VT7bfO-8Way9h76KrmyaOcLE9c/edit?usp=sharing)\n"
      ],
      "metadata": {
        "id": "sWnRpSVETXab"
      }
    },
    {
      "cell_type": "code",
      "source": [
        "print(\"hello\")"
      ],
      "metadata": {
        "colab": {
          "base_uri": "https://localhost:8080/"
        },
        "id": "xoSf7ZvZl5yQ",
        "outputId": "b279da61-8630-407f-e05a-d6477d11cbfa"
      },
      "execution_count": 1,
      "outputs": [
        {
          "output_type": "stream",
          "name": "stdout",
          "text": [
            "hello\n"
          ]
        }
      ]
    },
    {
      "cell_type": "markdown",
      "source": [
        "## Challenge 1.2: Install miniconda and lauch notebook server\n",
        "While this nice Colab server already has a python installation other servers you might need to connect to in the future might not, or you do not have the rights to change anything about them (install packages) Therefor its useful to know how to install your own python environment for which we will use miniConda\n",
        "\n",
        "\n",
        "1.   Install MiniConda (first download it to the server, then follow installation instructions)\n",
        "2. Create a python environment and activate the environment\n",
        "3. Install the following libraries: numpy pandas scipy scikit-learn notebook\n",
        "4. Launch Jupyter Notebook on IP 0.0.0.0 and a 4 digit port number: <br>\n",
        "jupyter notebook --ip=0.0.0.0 --port=1635\n",
        "\n",
        "\n"
      ],
      "metadata": {
        "id": "z8rJmb2eTxeT"
      }
    },
    {
      "cell_type": "markdown",
      "source": [
        "## Challenge 1.3: Keep notebook server running\n",
        "If you would now close the remote connection or it gets closed by acident due to temporary internet loss, your notebook server will be killed as well. So you would like it to keep running as a backend process that survives closing the terminal. \n",
        "1. A common way of doing this in with the screen application, install the screen aplication using apt\n",
        "2. Run the application by writing “screen” in your terminal\n",
        "3. Activate notebook environment\n",
        "4. Start notebook server\n",
        "5. Detach screen (Press and release Ctrl-a the press d)\n",
        "6. Close the terminal\n",
        "7. List running screens (screen -ls) and copy the name of the running screen <br>( **Note:** copying in terminals is generally done by selecting and a single right mouse click, no menu pops up)\n",
        "8. Reattach that screen (screen -r {copied name})\n",
        "9. Detach screen and close the terminal again\n",
        "10. You can kill an attached screen using (Ctrl-a then press k) however we are going to keep it alive for the next step"
      ],
      "metadata": {
        "id": "o4s-7xKbe6Bb"
      }
    },
    {
      "cell_type": "markdown",
      "source": [
        "Now after launching your very own notebook server in screen, you would also like to connect to it, however, the port you chose is not exposed to the internet. We can use NGROK again to expose this, however, under a free account NGROK only allows 1 connection at a time. You can use the code blow to first kill the previous NGROK session and then start a new session for your notebook server (if you did not choose port 1635, change it in the code below).\n",
        "\n",
        "The url that is printed can now be used to connect to your very own jupyter notebook server with your very own python environment"
      ],
      "metadata": {
        "id": "RAUuk0jvV2Sg"
      }
    },
    {
      "cell_type": "code",
      "source": [
        "! killall ngrok"
      ],
      "metadata": {
        "id": "CN32U4z8XD_s"
      },
      "execution_count": null,
      "outputs": []
    },
    {
      "cell_type": "code",
      "source": [
        "# Sometimes you have to run this block twice\n",
        "get_ipython().system_raw('./ngrok authtoken $authtoken && ./ngrok http 1635 &')\n",
        "import requests\n",
        "#Get public address\n",
        "url = 'http://localhost:4040/api/tunnels'\n",
        "public_adress = requests.get(url=url).json()['tunnels'][0]['public_url']\n",
        "print(public_adress)"
      ],
      "metadata": {
        "colab": {
          "base_uri": "https://localhost:8080/"
        },
        "id": "UyChHm_gV1Sc",
        "outputId": "097bdd7a-af6f-4217-e581-f9703a55ce23"
      },
      "execution_count": null,
      "outputs": [
        {
          "output_type": "stream",
          "name": "stdout",
          "text": [
            "https://836f-34-125-175-43.ngrok.io\n"
          ]
        }
      ]
    },
    {
      "cell_type": "code",
      "source": [],
      "metadata": {
        "id": "m7j_1q4WTwpc"
      },
      "execution_count": null,
      "outputs": []
    },
    {
      "cell_type": "code",
      "source": [],
      "metadata": {
        "id": "nBL3Y3Q1FjGx"
      },
      "execution_count": null,
      "outputs": []
    },
    {
      "cell_type": "code",
      "source": [],
      "metadata": {
        "id": "alBtbLmGFjJy"
      },
      "execution_count": null,
      "outputs": []
    },
    {
      "cell_type": "code",
      "source": [],
      "metadata": {
        "id": "H5XDCWbBFjM7"
      },
      "execution_count": null,
      "outputs": []
    },
    {
      "cell_type": "code",
      "source": [],
      "metadata": {
        "id": "qgB4r8hYFjPo"
      },
      "execution_count": null,
      "outputs": []
    }
  ]
}
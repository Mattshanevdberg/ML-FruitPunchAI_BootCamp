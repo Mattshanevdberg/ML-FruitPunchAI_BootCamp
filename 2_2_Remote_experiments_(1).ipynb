{
  "nbformat": 4,
  "nbformat_minor": 0,
  "metadata": {
    "colab": {
      "provenance": [],
      "toc_visible": true,
      "include_colab_link": true
    },
    "kernelspec": {
      "name": "python3",
      "display_name": "Python 3"
    },
    "language_info": {
      "name": "python"
    }
  },
  "cells": [
    {
      "cell_type": "markdown",
      "metadata": {
        "id": "view-in-github",
        "colab_type": "text"
      },
      "source": [
        "<a href=\"https://colab.research.google.com/github/Mattshanevdberg/ML-FruitPunchAI_BootCamp/blob/main/2_2_Remote_experiments_(1).ipynb\" target=\"_parent\"><img src=\"https://colab.research.google.com/assets/colab-badge.svg\" alt=\"Open In Colab\"/></a>"
      ]
    },
    {
      "cell_type": "code",
      "execution_count": null,
      "metadata": {
        "id": "V5rcIo-znuAQ"
      },
      "outputs": [],
      "source": []
    },
    {
      "cell_type": "markdown",
      "source": [
        "# Challenge 2\n",
        "For this challenge we will again need to use NGROK to connect to the underlying server, so again, run the code below."
      ],
      "metadata": {
        "id": "L4KLgOv3Jy3o"
      }
    },
    {
      "cell_type": "code",
      "source": [
        "#CODE\n",
        "#Generate root password\n",
        "import random, string\n",
        "password = ''.join(random.choice(string.ascii_letters + string.digits) for i in range(20))\n",
        "#Download ngrok\n",
        "! wget -q -c -nc https://bin.equinox.io/c/4VmDzA7iaHb/ngrok-stable-linux-amd64.zip\n",
        "! unzip -qq -n ngrok-stable-linux-amd64.zip\n",
        "#Setup sshd\n",
        "! apt-get install -qq -o=Dpkg::Use-Pty=0 openssh-server pwgen > /dev/null\n",
        "#Set root password\n",
        "! echo root:$password | chpasswd\n",
        "! mkdir -p /var/run/sshd\n",
        "! echo \"PermitRootLogin yes\" >> /etc/ssh/sshd_config\n",
        "! echo \"PasswordAuthentication yes\" >> /etc/ssh/sshd_config\n",
        "! echo \"LD_LIBRARY_PATH=/usr/lib64-nvidia\" >> /root/.bashrc\n",
        "! echo \"export LD_LIBRARY_PATH\" >> /root/.bashrc\n",
        "#Run sshd\n",
        "get_ipython().system_raw('/usr/sbin/sshd -D &')\n",
        "#Ask token\n",
        "print(\"Copy authtoken from https://dashboard.ngrok.com/get-started/your-authtoken\")\n",
        "import getpass\n",
        "authtoken = getpass.getpass()\n",
        "\n"
      ],
      "metadata": {
        "id": "Hu9lwpUkn3Yk",
        "colab": {
          "base_uri": "https://localhost:8080/"
        },
        "outputId": "d06d60bc-a9bc-46fc-c4cb-573fb48faf8b"
      },
      "execution_count": 2,
      "outputs": [
        {
          "name": "stdout",
          "output_type": "stream",
          "text": [
            "\n",
            "Creating config file /etc/ssh/sshd_config with new version\n",
            "Creating SSH2 RSA key; this may take some time ...\n",
            "2048 SHA256:uCOAep7UBcaKG41F4AZlpIRdEEXXCISPqItBkQk8zvo root@acb24215f2b6 (RSA)\n",
            "Creating SSH2 ECDSA key; this may take some time ...\n",
            "256 SHA256:YyWITO8Ai++y69a5cv7QYsvtAzXbm01/ugxeV3CP4gE root@acb24215f2b6 (ECDSA)\n",
            "Creating SSH2 ED25519 key; this may take some time ...\n",
            "256 SHA256:k9ZufQ1dNOtZb8ekVs3/d9azuzThhTdvAqDDb6JPVDc root@acb24215f2b6 (ED25519)\n",
            "Created symlink /etc/systemd/system/sshd.service → /lib/systemd/system/ssh.service.\n",
            "Created symlink /etc/systemd/system/multi-user.target.wants/ssh.service → /lib/systemd/system/ssh.service.\n",
            "invoke-rc.d: could not determine current runlevel\n",
            "invoke-rc.d: policy-rc.d denied execution of start.\n",
            "Copy authtoken from https://dashboard.ngrok.com/get-started/your-authtoken\n",
            "··········\n"
          ]
        }
      ]
    },
    {
      "cell_type": "code",
      "source": [
        "# If you get a HTTPConnectionPool error your still have an open NGROK connection in another Colab, kill it or factory reset that Colab\n",
        "#Create tunnel\n",
        "get_ipython().system_raw('./ngrok authtoken $authtoken && ./ngrok tcp 22 &')\n",
        "import requests\n",
        "#Get public address\n",
        "url = 'http://localhost:4040/api/tunnels'\n",
        "print(requests.get(url=url).json()['tunnels'][0]['public_url'])\n",
        "public_adress = requests.get(url=url).json()['tunnels'][0]['public_url']\n",
        "port = public_adress.split(':')[2]\n",
        "server = public_adress.split('//')[1].split(':')[0]\n",
        "print(f' server: {server}\\n port: {port}\\n username: root\\n password: {password}')"
      ],
      "metadata": {
        "colab": {
          "base_uri": "https://localhost:8080/"
        },
        "id": "VGTQtkN7aUQ0",
        "outputId": "4dea7012-9d9d-4935-9f68-432995712eef"
      },
      "execution_count": 4,
      "outputs": [
        {
          "output_type": "stream",
          "name": "stdout",
          "text": [
            "tcp://8.tcp.ngrok.io:17868\n",
            " server: 8.tcp.ngrok.io\n",
            " port: 17868\n",
            " username: root\n",
            " password: 6Oog6MfuE0QVAilFPSkU\n"
          ]
        }
      ]
    },
    {
      "cell_type": "markdown",
      "source": [
        "## Connect to the SSH server\n",
        "Again you would need to connect to the SSH server with the parameters printed above. However, since this is a completely new server, you would need to add your public key again. Luckily this can be done a bit easier from a notebook like this, simply replace the public_key string below with your public key and run the code block\n",
        "\n",
        "You can now connect to the server with the parameters above and your private key"
      ],
      "metadata": {
        "id": "sWnRpSVETXab"
      }
    },
    {
      "cell_type": "code",
      "source": [
        "import os\n",
        "public_keys = 'ssh-rsa AAAAB3NzaC1yc2EAAAADAQABAAACAQCgTMwiLTS6f/utjtT/lLfGsO8lNC/rkWEdufSblDvw/lEqaj1YssBnHjGoJ6rXGNn6T6guvSemdWne4hJstGDdj61yQ== sako@fruitpunch.ai'\n",
        "public_key = 'ssh-rsa AAAAB3NzaC1yc2EAAAADAQABAAACAQDEDHbX1lmv0uYqJucBewP+xZVHGh9Q1QvHGhqrsgshzouXeTGFJ7thw5S3oxKVFZXUVRlmHgi+U2RCDfm3csOe6r3yRYY1LjT+1lniIYk9+gNe0y85Z2aeGedQsECK54NmLbsAGeNhJhwhJMR4j8DYnWJmEjlQ+bWczmpKNJRHK7jZxvuMOHaP8lDjDi7XPS8gpVQ6SdTOtQtrUdf9prfdU9X/ztJINDqpA1XGsr6JmZDgjrGqDNWIV+U5abwuH+D4ZKc5yzv7+w/CdQPdDOVk4nWFLi+qt3+EG5+YPY5oWIUuQsDjPBMRmzMwskZKhSa5iyyYboLL2UhzxbxFSqhZ9b3puEqrYNFYQZYsPpv5AC3E+KDibHOu0qvwsU6fVlA/7J2r+zzN3mOPsS0YM/aDajg0BvHPsSEntcF/DZe9TOGtuOp5Qan6YYirUwAd/WP4G3Neb597niQAfvKQ8JLDJRzQLkMupCNmDyBzfztMRsZIwLosWdTH6Jd2xgumFnMkEVuk4GZ5n5iB94yd2GcAi2DWcLdk8IX7Bt0OL5a7U1Rsf2MB8t8bnvkyr+zxA3XK6N0Nt6y78UaJpRqiuVoB4qDV286BJVQB6SG/xF30dzMxazL+jNERwCSXVZJjTXciQIcwMLRd8L50juFLYcQ6YpU4aT5wVrJOAqcXxqTipw== vanmat10@gmail.com'\n",
        "os.makedirs('/root/.ssh', exist_ok=True)\n",
        "with open('/root/.ssh/authorized_keys', \"w\") as f:\n",
        "    f.write(public_key)\n"
      ],
      "metadata": {
        "id": "dg-2EFgxcbPC"
      },
      "execution_count": 5,
      "outputs": []
    },
    {
      "cell_type": "code",
      "source": [
        "print(\"hello\")"
      ],
      "metadata": {
        "colab": {
          "base_uri": "https://localhost:8080/"
        },
        "id": "U2tG93dno2QA",
        "outputId": "2a61abe6-f733-4e7e-db20-8a06eb4cfd19"
      },
      "execution_count": 8,
      "outputs": [
        {
          "output_type": "stream",
          "name": "stdout",
          "text": [
            "hello\n"
          ]
        }
      ]
    },
    {
      "cell_type": "markdown",
      "source": [
        "## Challenge 2.1: Run remote experiment\n",
        "Connecting to servers like this also allows you to run python code on them, for example a Machine Learning experiment without having you own laptop overheat on calucationtions. You can use screen like in challenge 1.2 to run them overnight, or run multiple at a time. You can even use this trick to run multiple experiments in paralel in on a Colab server like this. \n",
        "\n",
        "1. Clone the following git repro via the SSH connection\n",
        "https://gitlab.com/fruitpunch/education/events/bootcamp-2021-ai-in-practise/session-2-developer-skills.git\n",
        "2. Move inside the newly created session-2-developer-skills folder\n",
        "3. Start screen\n",
        "4. Create new environment\n",
        "5. Load environment\n",
        "6. Install packages from the requirements.txt\n",
        "7. Run experiment.py and detach screen\n"
      ],
      "metadata": {
        "id": "a7B5UPn8goPR"
      }
    },
    {
      "cell_type": "markdown",
      "source": [
        "Next step, create your own git repro, intialize it with code above, change it to a flask api, commit and push changes lcoally then pull them remotely. Then launch API"
      ],
      "metadata": {
        "id": "Sl6u9K8jjZpJ"
      }
    },
    {
      "cell_type": "code",
      "source": [
        "! git clone https://gitlab.com/fruitpunch/education/events/bootcamp-2021-ai-in-practise/session-2-developer-skills.git\n"
      ],
      "metadata": {
        "colab": {
          "base_uri": "https://localhost:8080/"
        },
        "id": "XWW5CWtKAghz",
        "outputId": "b2e606fd-0eb6-429b-9180-860e4a355f7c"
      },
      "execution_count": null,
      "outputs": [
        {
          "output_type": "stream",
          "name": "stdout",
          "text": [
            "Cloning into 'session-2-developer-skills'...\n",
            "remote: Enumerating objects: 23, done.\u001b[K\n",
            "remote: Counting objects: 100% (23/23), done.\u001b[K\n",
            "remote: Compressing objects: 100% (19/19), done.\u001b[K\n",
            "remote: Total 23 (delta 2), reused 0 (delta 0), pack-reused 0\u001b[K\n",
            "Unpacking objects: 100% (23/23), done.\n"
          ]
        }
      ]
    },
    {
      "cell_type": "code",
      "source": [],
      "metadata": {
        "id": "b2o1lBeuFTuL"
      },
      "execution_count": null,
      "outputs": []
    },
    {
      "cell_type": "code",
      "source": [
        "! cd session-2-developer-skills && git checkout docker"
      ],
      "metadata": {
        "colab": {
          "base_uri": "https://localhost:8080/"
        },
        "id": "eOmQuu6L-siP",
        "outputId": "d293fae0-629d-47f6-bfb7-4eba140c1822"
      },
      "execution_count": null,
      "outputs": [
        {
          "output_type": "stream",
          "name": "stdout",
          "text": [
            "Branch 'docker' set up to track remote branch 'docker' from 'origin'.\n",
            "Switched to a new branch 'docker'\n"
          ]
        }
      ]
    },
    {
      "cell_type": "code",
      "source": [
        "! ls"
      ],
      "metadata": {
        "colab": {
          "base_uri": "https://localhost:8080/"
        },
        "id": "0Nfp9ZZ_FPmi",
        "outputId": "06d84ce9-def3-40c3-9c60-53725134b465"
      },
      "execution_count": null,
      "outputs": [
        {
          "output_type": "stream",
          "name": "stdout",
          "text": [
            "cloudflared\t ngrok\t\t\t       sample_data\n",
            "cloudflared.log  ngrok-stable-linux-amd64.zip  session-2-developer-skills\n"
          ]
        }
      ]
    },
    {
      "cell_type": "code",
      "source": [
        "! python ./session-2-developer-skills/main.py"
      ],
      "metadata": {
        "colab": {
          "base_uri": "https://localhost:8080/"
        },
        "id": "WxxXmoFnFjEO",
        "outputId": "f3900bf4-b6be-4da9-eea1-1c18df0c69f4"
      },
      "execution_count": null,
      "outputs": [
        {
          "output_type": "stream",
          "name": "stdout",
          "text": [
            " * Serving Flask app \"main\" (lazy loading)\n",
            " * Environment: production\n",
            "\u001b[31m   WARNING: This is a development server. Do not use it in a production deployment.\u001b[0m\n",
            "\u001b[2m   Use a production WSGI server instead.\u001b[0m\n",
            " * Debug mode: off\n",
            " * Running on http://127.0.0.1:5000/ (Press CTRL+C to quit)\n",
            "127.0.0.1 - - [16/Feb/2022 15:13:39] \"\u001b[31m\u001b[1mGET / HTTP/1.1\u001b[0m\" 405 -\n",
            "127.0.0.1 - - [16/Feb/2022 15:13:39] \"\u001b[33mGET /favicon.ico HTTP/1.1\u001b[0m\" 404 -\n",
            "127.0.0.1 - - [16/Feb/2022 15:13:40] \"\u001b[31m\u001b[1mGET / HTTP/1.1\u001b[0m\" 405 -\n"
          ]
        }
      ]
    },
    {
      "cell_type": "code",
      "source": [],
      "metadata": {
        "id": "nBL3Y3Q1FjGx"
      },
      "execution_count": null,
      "outputs": []
    },
    {
      "cell_type": "code",
      "source": [],
      "metadata": {
        "id": "alBtbLmGFjJy"
      },
      "execution_count": null,
      "outputs": []
    },
    {
      "cell_type": "code",
      "source": [],
      "metadata": {
        "id": "H5XDCWbBFjM7"
      },
      "execution_count": null,
      "outputs": []
    },
    {
      "cell_type": "code",
      "source": [],
      "metadata": {
        "id": "qgB4r8hYFjPo"
      },
      "execution_count": null,
      "outputs": []
    }
  ]
}